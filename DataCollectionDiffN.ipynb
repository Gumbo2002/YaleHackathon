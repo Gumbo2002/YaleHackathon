{
 "cells": [
  {
   "cell_type": "code",
   "execution_count": 16,
   "id": "b8be6211-d2ab-4e33-9326-30e6b9522aad",
   "metadata": {
    "tags": []
   },
   "outputs": [],
   "source": [
    "import numpy as np"
   ]
  },
  {
   "cell_type": "code",
   "execution_count": 17,
   "id": "5ff0f111-62c5-491c-9539-c3cd95a20f41",
   "metadata": {
    "tags": []
   },
   "outputs": [],
   "source": [
    "from braket.aws import AwsDevice, AwsQuantumTask\n",
    "from braket.circuits import Circuit\n",
    "from braket.devices import LocalSimulator \n",
    "from braket.tracking import Tracker\n",
    "\n",
    "# AWS local simulator\n",
    "\n",
    "#device = LocalSimulator()\n",
    "\n",
    "# AWS online simulator (not free)\n",
    "#device = AwsDevice(\"arn:aws:braket:::device/quantum-simulator/amazon/sv1\")\n",
    "\n",
    "# DM1 Simulator (adds noise)\n",
    "device = AwsDevice(\"arn:aws:braket:::device/quantum-simulator/amazon/dm1\")\n",
    "\n",
    "# Lucy\n",
    "#device = AwsDevice(\"arn:aws:braket:eu-west-2::device/qpu/oqc/Lucy\")"
   ]
  },
  {
   "cell_type": "code",
   "execution_count": 19,
   "id": "1b49f2b9-cd51-4321-98e2-e3fcd8a6fd80",
   "metadata": {},
   "outputs": [],
   "source": [
    "from core import TwoBitCircuit_noCode, ThreeBitCircuit_noCode, FourBitCircuit_noCode, FiveBitCircuit_noCode, SixBitCircuit_noCode\n",
    "from braket.circuits import Circuit, noises, Gate\n",
    "\n",
    "#Data collection for dependence of Shannon Entropy and Minimum Entropy based upon number of qubits \n",
    "\n",
    "shotsnum = 5000\n",
    "cq = 0\n",
    "aq = 1\n",
    "\n",
    "TwoCircuit = TwoBitCircuit_noCode(cq,aq).circuit\n",
    "ThreeCircuit = ThreeBitCircuit_noCode().circuit\n",
    "FourCircuit = FourBitCircuit_noCode().circuit\n",
    "FiveCircuit = FiveBitCircuit_noCode().circuit\n",
    "SixCircuit = SixBitCircuit_noCode().circuit \n",
    "circuits = [TwoCircuit, ThreeCircuit, FourCircuit, FiveCircuit, SixCircuit]"
   ]
  },
  {
   "cell_type": "code",
   "execution_count": 20,
   "id": "c7833b18-6c94-46a9-b426-b0fce6441f0a",
   "metadata": {
    "tags": []
   },
   "outputs": [],
   "source": [
    "#Introducing error through the AWS Braket SDK. Operates on quantum states through quantum channels essentially applying a projection of the \n",
    "#density matrix. Use depolarizing error because it represents information loss due to coupling with environment and represents the \n",
    "#Github method of applying superposition of pauli matrices to the states to introduce error. Error is applied over the identity matrix\n",
    "#after the entangled state to represent the decoherence of the quantum state.\n",
    "noise1 = noises.Depolarizing(probability=0.05)#arbitrary\n",
    "noise2 = noises.BitFlip(probability=0.05)#arbitrary\n",
    "for L in circuits:\n",
    "    L.apply_gate_noise(noise1)\n",
    "    L.apply_readout_noise(noise2)\n"
   ]
  },
  {
   "cell_type": "code",
   "execution_count": 21,
   "id": "5807b96c-be05-4f61-9d74-d221b589af59",
   "metadata": {
    "tags": []
   },
   "outputs": [],
   "source": [
    "with Tracker() as tracker:\n",
    "    Two_task = device.run(TwoCircuit, shots=shotsnum)\n",
    "    Three_task = device.run(ThreeCircuit, shots=shotsnum)\n",
    "    Four_task = device.run(FourCircuit, shots=shotsnum)\n",
    "    Five_task = device.run(FiveCircuit, shots=shotsnum)\n",
    "    Six_task = device.run(SixCircuit, shots=shotsnum)"
   ]
  },
  {
   "cell_type": "code",
   "execution_count": 22,
   "id": "8568a636-50b9-447b-9290-a4476d79347c",
   "metadata": {},
   "outputs": [
    {
     "name": "stdout",
     "output_type": "stream",
     "text": [
      "{'arn:aws:braket:::device/quantum-simulator/amazon/dm1': {'shots': 25000, 'tasks': {'CREATED': 5}}}\n",
      "0\n",
      "0\n",
      "arn:aws:braket:us-east-1:592242689881:quantum-task/58dded9f-c3a0-4ba7-b5d7-7af8961a3c3e\n",
      "arn:aws:braket:us-east-1:592242689881:quantum-task/bc20a881-3486-4fd3-b11a-4fd567fa0a84\n",
      "arn:aws:braket:us-east-1:592242689881:quantum-task/9eb60be3-14f7-4659-bd20-60014ca82d49\n",
      "arn:aws:braket:us-east-1:592242689881:quantum-task/407c6a5a-1057-4b30-9cf7-e000a330feed\n",
      "arn:aws:braket:us-east-1:592242689881:quantum-task/a808d1d5-7426-43e7-aecf-f770da8522cf\n"
     ]
    }
   ],
   "source": [
    "print(tracker.quantum_tasks_statistics())\n",
    "print(tracker.simulator_tasks_cost())\n",
    "print(tracker.qpu_tasks_cost())\n",
    "print(Two_task.id)\n",
    "print(Three_task.id)\n",
    "print(Four_task.id)\n",
    "print(Five_task.id)\n",
    "print(Six_task.id)"
   ]
  },
  {
   "cell_type": "code",
   "execution_count": 23,
   "id": "ec113482-0067-46dc-9fa2-998a4c61a368",
   "metadata": {},
   "outputs": [
    {
     "name": "stdout",
     "output_type": "stream",
     "text": [
      "{'11': 0.4076, '00': 0.3978, '01': 0.095, '10': 0.0996}\n",
      "{'001': 0.3828, '100': 0.0474, '010': 0.0586, '101': 0.051, '000': 0.384, '011': 0.0588, '110': 0.0088, '111': 0.0086}\n",
      "{'1100': 0.0328, '0100': 0.1828, '0000': 0.1868, '0110': 0.0276, '0001': 0.187, '0101': 0.1884, '1011': 0.0048, '1101': 0.0294, '1111': 0.0046, '0111': 0.0288, '0010': 0.028, '1000': 0.0288, '0011': 0.0308, '1110': 0.0032, '1001': 0.0312, '1010': 0.005}\n",
      "{'01101': 0.0276, '00100': 0.1668, '00101': 0.1604, '10101': 0.0198, '00001': 0.1592, '00000': 0.1664, '11100': 0.0086, '10100': 0.0212, '00010': 0.0228, '10000': 0.0196, '00111': 0.0208, '10001': 0.021, '11001': 0.011, '01100': 0.0232, '00110': 0.02, '01000': 0.0306, '00011': 0.0206, '01110': 0.0038, '10010': 0.002, '01001': 0.03, '11000': 0.0114, '11101': 0.0126, '10110': 0.0024, '01111': 0.0036, '01010': 0.003, '01011': 0.0028, '10011': 0.0024, '11110': 0.0016, '10111': 0.0016, '11111': 0.0012, '11010': 0.001, '11011': 0.001}\n",
      "{'100000': 0.0234, '111101': 0.0062, '100001': 0.0226, '110001': 0.0228, '001010': 0.0066, '100010': 0.0248, '111110': 0.007, '101011': 0.0072, '010010': 0.024, '100110': 0.0244, '000110': 0.024, '010100': 0.0226, '000100': 0.0298, '111100': 0.0072, '100011': 0.0272, '000011': 0.0236, '010111': 0.0244, '010110': 0.024, '010101': 0.0254, '100101': 0.0264, '111111': 0.0078, '110110': 0.0272, '101001': 0.0068, '010000': 0.0294, '110011': 0.0208, '101100': 0.0068, '101101': 0.0084, '010011': 0.023, '011111': 0.0084, '010001': 0.0246, '000001': 0.0228, '110100': 0.0226, '000111': 0.0234, '110101': 0.0198, '110010': 0.0216, '110000': 0.022, '111000': 0.005, '000101': 0.0234, '100100': 0.0244, '000010': 0.0248, '110111': 0.0202, '011100': 0.0076, '000000': 0.0266, '011001': 0.0064, '001100': 0.0058, '111011': 0.007, '011000': 0.0068, '100111': 0.0238, '011011': 0.0064, '011101': 0.0082, '101110': 0.0066, '111010': 0.0076, '001000': 0.0092, '101111': 0.0074, '011010': 0.0046, '001001': 0.0064, '101000': 0.0098, '001011': 0.009, '101010': 0.0062, '001111': 0.0088, '011110': 0.0076, '111001': 0.0084, '001101': 0.006, '001110': 0.007}\n"
     ]
    }
   ],
   "source": [
    "Two_prob = AwsQuantumTask(arn = Two_task.id).result().measurement_probabilities\n",
    "Three_prob = AwsQuantumTask(arn = Three_task.id).result().measurement_probabilities\n",
    "Four_prob = AwsQuantumTask(arn = Four_task.id).result().measurement_probabilities\n",
    "Five_prob = AwsQuantumTask(arn = Five_task.id).result().measurement_probabilities\n",
    "Six_prob = AwsQuantumTask(arn = Six_task.id).result().measurement_probabilities\n",
    "print(Two_prob)\n",
    "print(Three_prob)\n",
    "print(Four_prob)\n",
    "print(Five_prob)\n",
    "print(Six_prob)"
   ]
  },
  {
   "cell_type": "code",
   "execution_count": 24,
   "id": "8c65b40a-1ba0-4354-8a3b-5111d11e57e9",
   "metadata": {},
   "outputs": [],
   "source": [
    "Two_raw = AwsQuantumTask(arn = Two_task.id).result().measurements\n",
    "Three_raw = AwsQuantumTask(arn = Three_task.id).result().measurements\n",
    "Four_raw = AwsQuantumTask(arn = Four_task.id).result().measurements\n",
    "Five_raw = AwsQuantumTask(arn = Five_task.id).result().measurements\n",
    "Six_raw = AwsQuantumTask(arn = Six_task.id).result().measurements\n",
    "np.savetxt('braketError_Two_raw.txt',Two_raw,fmt=\"%i\")\n",
    "np.savetxt('braketError_Three_raw.txt',Three_raw,fmt=\"%i\")\n",
    "np.savetxt('braketError_Four_raw.txt',Four_raw,fmt=\"%i\")\n",
    "np.savetxt('braketError_Five_raw.txt',Five_raw,fmt=\"%i\")\n",
    "np.savetxt('braketError_Six_raw.txt',Six_raw,fmt=\"%i\")"
   ]
  },
  {
   "cell_type": "code",
   "execution_count": null,
   "id": "6e98ccc0-429f-4be4-9fd0-eb8c989a1f93",
   "metadata": {},
   "outputs": [],
   "source": []
  }
 ],
 "metadata": {
  "kernelspec": {
   "display_name": "Python 3 [Default]",
   "language": "python",
   "name": "python3"
  },
  "language_info": {
   "codemirror_mode": {
    "name": "ipython",
    "version": 3
   },
   "file_extension": ".py",
   "mimetype": "text/x-python",
   "name": "python",
   "nbconvert_exporter": "python",
   "pygments_lexer": "ipython3",
   "version": "3.11.8"
  }
 },
 "nbformat": 4,
 "nbformat_minor": 5
}
