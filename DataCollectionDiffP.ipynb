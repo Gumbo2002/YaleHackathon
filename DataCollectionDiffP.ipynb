{
 "cells": [
  {
   "cell_type": "code",
   "execution_count": 1,
   "id": "b8be6211-d2ab-4e33-9326-30e6b9522aad",
   "metadata": {
    "tags": []
   },
   "outputs": [],
   "source": [
    "import numpy as np"
   ]
  },
  {
   "cell_type": "code",
   "execution_count": 2,
   "id": "5ff0f111-62c5-491c-9539-c3cd95a20f41",
   "metadata": {
    "tags": []
   },
   "outputs": [],
   "source": [
    "from braket.aws import AwsDevice, AwsQuantumTask\n",
    "from braket.circuits import Circuit\n",
    "from braket.devices import LocalSimulator \n",
    "from braket.tracking import Tracker\n",
    "\n",
    "# AWS local simulator\n",
    "\n",
    "#device = LocalSimulator()\n",
    "\n",
    "# AWS online simulator (not free)\n",
    "#device = AwsDevice(\"arn:aws:braket:::device/quantum-simulator/amazon/sv1\")\n",
    "\n",
    "# DM1 Simulator (adds noise)\n",
    "device = AwsDevice(\"arn:aws:braket:::device/quantum-simulator/amazon/dm1\")\n",
    "\n",
    "# Lucy\n",
    "#device = AwsDevice(\"arn:aws:braket:eu-west-2::device/qpu/oqc/Lucy\")"
   ]
  },
  {
   "cell_type": "code",
   "execution_count": 10,
   "id": "1b49f2b9-cd51-4321-98e2-e3fcd8a6fd80",
   "metadata": {},
   "outputs": [],
   "source": [
    "from core import TwoBitCircuit_noCode, ThreeBitCircuit_noCode, FourBitCircuit_noCode, FiveBitCircuit_noCode, SixBitCircuit_noCode\n",
    "from braket.circuits import Circuit, noises, Gate\n",
    "\n",
    "#Data collection for dependence of Shannon Entropy and Minimum Entropy on the error rate for quantum system.\n",
    "shotsnum = 5000\n",
    "cq = 0\n",
    "aq = 1\n",
    "\n",
    "TwoCircuit = TwoBitCircuit_noCode(cq,aq).circuit\n",
    "ThreeCircuit = TwoBitCircuit_noCode(cq, aq).circuit\n",
    "FourCircuit = TwoBitCircuit_noCode(cq, aq).circuit\n",
    "FiveCircuit = TwoBitCircuit_noCode(cq, aq).circuit\n",
    "SixCircuit = TwoBitCircuit_noCode(cq, aq).circuit \n",
    "circuits = [TwoCircuit, ThreeCircuit, FourCircuit, FiveCircuit, SixCircuit]"
   ]
  },
  {
   "cell_type": "code",
   "execution_count": 11,
   "id": "c7833b18-6c94-46a9-b426-b0fce6441f0a",
   "metadata": {
    "tags": []
   },
   "outputs": [],
   "source": [
    "#Introducing error through the AWS Braket SDK. Operates on quantum states through quantum channels essentially applying a projection of the \n",
    "#density matrix. Use depolarizing error because it represents information loss due to coupling with environment and represents the \n",
    "#Github method of applying superposition of pauli matrices to the states to introduce error. \n",
    "noise1 = [noises.Depolarizing(probability=0.05*(1+i)) for i in range(0, 5)]\n",
    "noise2 = [noises.BitFlip(probability=0.05*(1+i)) for i in range(0, 5)]\n",
    "\n",
    "for i in range(0, 5):\n",
    "    circuits[i].apply_gate_noise(noise1[i])\n",
    "    circuits[i].apply_readout_noise(noise2[i])"
   ]
  },
  {
   "cell_type": "code",
   "execution_count": 12,
   "id": "5807b96c-be05-4f61-9d74-d221b589af59",
   "metadata": {
    "tags": []
   },
   "outputs": [],
   "source": [
    "with Tracker() as tracker:\n",
    "    Two_task = device.run(TwoCircuit, shots=shotsnum)\n",
    "    Three_task = device.run(ThreeCircuit, shots=shotsnum)\n",
    "    Four_task = device.run(FourCircuit, shots=shotsnum)\n",
    "    Five_task = device.run(FiveCircuit, shots=shotsnum)\n",
    "    Six_task = device.run(SixCircuit, shots=shotsnum)"
   ]
  },
  {
   "cell_type": "code",
   "execution_count": 13,
   "id": "8568a636-50b9-447b-9290-a4476d79347c",
   "metadata": {},
   "outputs": [
    {
     "name": "stdout",
     "output_type": "stream",
     "text": [
      "{'arn:aws:braket:::device/quantum-simulator/amazon/dm1': {'shots': 25000, 'tasks': {'CREATED': 5}}}\n",
      "0\n",
      "0\n",
      "arn:aws:braket:us-east-1:592242689881:quantum-task/5a569e26-886c-4f84-a498-27578e38ec88\n",
      "arn:aws:braket:us-east-1:592242689881:quantum-task/ce7b6132-a667-4b80-b4be-1fea51c237dc\n",
      "arn:aws:braket:us-east-1:592242689881:quantum-task/ec7ebf1d-c771-45c8-9147-e93d24cdcfb9\n",
      "arn:aws:braket:us-east-1:592242689881:quantum-task/b01feeb5-f44f-4f0a-8ad2-8bc1fa1f014c\n",
      "arn:aws:braket:us-east-1:592242689881:quantum-task/8e29a3a5-d1e0-459c-9439-193055f8eb16\n"
     ]
    }
   ],
   "source": [
    "print(tracker.quantum_tasks_statistics())\n",
    "print(tracker.simulator_tasks_cost())\n",
    "print(tracker.qpu_tasks_cost())\n",
    "print(Two_task.id)\n",
    "print(Three_task.id)\n",
    "print(Four_task.id)\n",
    "print(Five_task.id)\n",
    "print(Six_task.id)"
   ]
  },
  {
   "cell_type": "code",
   "execution_count": 14,
   "id": "ec113482-0067-46dc-9fa2-998a4c61a368",
   "metadata": {},
   "outputs": [
    {
     "name": "stdout",
     "output_type": "stream",
     "text": [
      "{'00': 0.4146, '10': 0.0802, '01': 0.0706, '11': 0.4346}\n",
      "{'11': 0.3654, '00': 0.3772, '01': 0.131, '10': 0.1264}\n",
      "{'00': 0.3252, '01': 0.169, '11': 0.3292, '10': 0.1766}\n",
      "{'00': 0.3038, '11': 0.2924, '01': 0.209, '10': 0.1948}\n",
      "{'11': 0.2786, '01': 0.2256, '10': 0.2192, '00': 0.2766}\n"
     ]
    }
   ],
   "source": [
    "Two_prob = AwsQuantumTask(arn = Two_task.id).result().measurement_probabilities\n",
    "Three_prob = AwsQuantumTask(arn = Three_task.id).result().measurement_probabilities\n",
    "Four_prob = AwsQuantumTask(arn = Four_task.id).result().measurement_probabilities\n",
    "Five_prob = AwsQuantumTask(arn = Five_task.id).result().measurement_probabilities\n",
    "Six_prob = AwsQuantumTask(arn = Six_task.id).result().measurement_probabilities\n",
    "print(Two_prob)\n",
    "print(Three_prob)\n",
    "print(Four_prob)\n",
    "print(Five_prob)\n",
    "print(Six_prob)"
   ]
  },
  {
   "cell_type": "code",
   "execution_count": 15,
   "id": "8c65b40a-1ba0-4354-8a3b-5111d11e57e9",
   "metadata": {},
   "outputs": [],
   "source": [
    "Two_raw = AwsQuantumTask(arn = Two_task.id).result().measurements\n",
    "Three_raw = AwsQuantumTask(arn = Three_task.id).result().measurements\n",
    "Four_raw = AwsQuantumTask(arn = Four_task.id).result().measurements\n",
    "Five_raw = AwsQuantumTask(arn = Five_task.id).result().measurements\n",
    "Six_raw = AwsQuantumTask(arn = Six_task.id).result().measurements\n",
    "np.savetxt('braketError_05_raw.txt',Two_raw,fmt=\"%i\")\n",
    "np.savetxt('braketError_10_raw.txt',Three_raw,fmt=\"%i\")\n",
    "np.savetxt('braketError_15_raw.txt',Four_raw,fmt=\"%i\")\n",
    "np.savetxt('braketError_20_raw.txt',Five_raw,fmt=\"%i\")\n",
    "np.savetxt('braketError_25_raw.txt',Six_raw,fmt=\"%i\")"
   ]
  },
  {
   "cell_type": "code",
   "execution_count": null,
   "id": "6e98ccc0-429f-4be4-9fd0-eb8c989a1f93",
   "metadata": {},
   "outputs": [],
   "source": []
  }
 ],
 "metadata": {
  "kernelspec": {
   "display_name": "Python 3 [Default]",
   "language": "python",
   "name": "python3"
  },
  "language_info": {
   "codemirror_mode": {
    "name": "ipython",
    "version": 3
   },
   "file_extension": ".py",
   "mimetype": "text/x-python",
   "name": "python",
   "nbconvert_exporter": "python",
   "pygments_lexer": "ipython3",
   "version": "3.11.8"
  }
 },
 "nbformat": 4,
 "nbformat_minor": 5
}
